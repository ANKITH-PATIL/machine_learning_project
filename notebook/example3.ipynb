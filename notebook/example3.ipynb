{
 "cells": [
  {
   "cell_type": "code",
   "execution_count": 1,
   "metadata": {},
   "outputs": [],
   "source": [
    "from scipy.stats import ks_2samp"
   ]
  },
  {
   "cell_type": "code",
   "execution_count": 2,
   "metadata": {},
   "outputs": [],
   "source": [
    "import numpy as np"
   ]
  },
  {
   "cell_type": "code",
   "execution_count": 12,
   "metadata": {},
   "outputs": [],
   "source": [
    "arr1=np.arange(10)\n",
    "arr2=np.arange(10)"
   ]
  },
  {
   "cell_type": "code",
   "execution_count": 13,
   "metadata": {},
   "outputs": [
    {
     "data": {
      "text/plain": [
       "array([0, 1, 2, 3, 4, 5, 6, 7, 8, 9])"
      ]
     },
     "execution_count": 13,
     "metadata": {},
     "output_type": "execute_result"
    }
   ],
   "source": [
    "arr1"
   ]
  },
  {
   "cell_type": "code",
   "execution_count": 14,
   "metadata": {},
   "outputs": [
    {
     "data": {
      "text/plain": [
       "array([0, 1, 2, 3, 4, 5, 6, 7, 8, 9])"
      ]
     },
     "execution_count": 14,
     "metadata": {},
     "output_type": "execute_result"
    }
   ],
   "source": [
    "arr2"
   ]
  },
  {
   "cell_type": "markdown",
   "metadata": {},
   "source": [
    "Null: Two datset are from same distribution\n",
    "\n",
    "Alterate: Two dataset are not from same distribution\n",
    "\n",
    "\n",
    "if p>=0.05 :\n",
    "    We have sufficent proof that null hypothesis is True\n",
    "else:\n",
    "    We don't have sufficient proof that null hypothesis is True"
   ]
  },
  {
   "cell_type": "code",
   "execution_count": null,
   "metadata": {},
   "outputs": [],
   "source": []
  },
  {
   "cell_type": "code",
   "execution_count": 15,
   "metadata": {},
   "outputs": [],
   "source": [
    "res=ks_2samp(arr1,arr2)"
   ]
  },
  {
   "cell_type": "code",
   "execution_count": 16,
   "metadata": {},
   "outputs": [
    {
     "data": {
      "text/plain": [
       "1.0"
      ]
     },
     "execution_count": 16,
     "metadata": {},
     "output_type": "execute_result"
    }
   ],
   "source": [
    "res.pvalue"
   ]
  },
  {
   "cell_type": "code",
   "execution_count": 17,
   "metadata": {},
   "outputs": [],
   "source": [
    "# INTERVIEW QUESTION:\n",
    "# where have u done hypothesis testing in the pipeline? "
   ]
  },
  {
   "cell_type": "code",
   "execution_count": 1,
   "metadata": {},
   "outputs": [],
   "source": [
    "class A:\n",
    "    pass"
   ]
  },
  {
   "cell_type": "code",
   "execution_count": 2,
   "metadata": {},
   "outputs": [],
   "source": [
    "setattr(A,'b',56)"
   ]
  },
  {
   "cell_type": "code",
   "execution_count": 3,
   "metadata": {},
   "outputs": [
    {
     "data": {
      "text/plain": [
       "56"
      ]
     },
     "execution_count": 3,
     "metadata": {},
     "output_type": "execute_result"
    }
   ],
   "source": [
    "A.b"
   ]
  },
  {
   "cell_type": "code",
   "execution_count": 8,
   "metadata": {},
   "outputs": [],
   "source": [
    "import time"
   ]
  },
  {
   "cell_type": "code",
   "execution_count": 4,
   "metadata": {},
   "outputs": [],
   "source": [
    "from threading import Thread\n",
    "\n",
    "\n",
    "class DemoThread(Thread):\n",
    "    def __init__(self,*args,**kwargs) -> str:\n",
    "        super().__init__( name=\"demo_thread\", daemon=False)\n",
    "\n",
    "    def print_msg(self):\n",
    "        time.sleep(2)\n",
    "        print(\"I was called by Thread\")\n",
    "\n",
    "    def run(self) -> str:\n",
    "        self.print_msg()\n",
    "       # return super().run()"
   ]
  },
  {
   "cell_type": "code",
   "execution_count": 5,
   "metadata": {},
   "outputs": [
    {
     "name": "stdout",
     "output_type": "stream",
     "text": [
      "Creating the objcet of demo thread class \n",
      "strting the demo thread\n",
      "Demo thread started \n",
      "thread has completed\n"
     ]
    },
    {
     "name": "stderr",
     "output_type": "stream",
     "text": [
      "Exception in thread demo_thread:\n",
      "Traceback (most recent call last):\n",
      "  File \"c:\\Users\\Ankith\\machine_learning_project\\venv\\lib\\threading.py\", line 917, in _bootstrap_inner\n",
      "    self.run()\n",
      "  File \"C:\\Users\\Ankith\\AppData\\Local\\Temp\\ipykernel_3560\\2559712820.py\", line 13, in run\n",
      "    self.print_msg()\n",
      "  File \"C:\\Users\\Ankith\\AppData\\Local\\Temp\\ipykernel_3560\\2559712820.py\", line 9, in print_msg\n",
      "    time.sleep(2)\n",
      "NameError: name 'time' is not defined\n",
      "\n"
     ]
    }
   ],
   "source": [
    "print(\"Creating the objcet of demo thread class \")\n",
    "d=DemoThread()\n",
    "\n",
    "print(\"strting the demo thread\")\n",
    "d.start()\n",
    "print(f\"Demo thread started \")\n",
    "d.join()\n",
    "print(f\"thread has completed\")"
   ]
  },
  {
   "cell_type": "code",
   "execution_count": 16,
   "metadata": {},
   "outputs": [],
   "source": [
    "a=DemoThread()"
   ]
  },
  {
   "cell_type": "code",
   "execution_count": 17,
   "metadata": {},
   "outputs": [
    {
     "name": "stdout",
     "output_type": "stream",
     "text": [
      "ill not wait for the sequence ill execute regardless becoz of thread being used\n",
      "I was called by Thread\n"
     ]
    }
   ],
   "source": [
    "a.start()\n",
    "print(\"ill not wait for the sequence ill execute regardless becoz of thread being used\")\n",
    "a.join()"
   ]
  },
  {
   "cell_type": "code",
   "execution_count": 14,
   "metadata": {},
   "outputs": [
    {
     "name": "stdout",
     "output_type": "stream",
     "text": [
      "I was called by Thread\n",
      "Iam waiting for print msg to complete then ill print or ill execute\n"
     ]
    }
   ],
   "source": [
    "a.print_msg()\n",
    "print(\"Iam waiting for print msg to complete then ill print or ill execute\")"
   ]
  },
  {
   "cell_type": "code",
   "execution_count": 13,
   "metadata": {},
   "outputs": [],
   "source": [
    "#when u use start function in the thread class it overruns the run method wherever \n",
    "# the run method is mentioned this is how thread function works\n",
    "\n",
    "# when u use the join function then it will wait for the run function to complete \n",
    "\n",
    "#this is the benefit of the thread it executes the subsuqent lines when the program\n",
    "#  has gone to sleep\n",
    "\n",
    "\n",
    "#why we use thread?\n",
    "# to achieve parallelism to simultanaoesly execute multiple blocks of code\n",
    "#thats why we convert the pipeline to thread\n",
    "\n",
    "# start starts from the run function and then multiple tasks are divided into \n",
    "# for faster computation\n",
    "# anything between start and join it will execute in multiple threads but after join it\n",
    "#  will be a normal sequenstial execution\n",
    "\n",
    "# then the join function makes all the threads wait for each other to complete\n",
    "# and all the threads join  (its like different ppl taking diff routes to the airport \n",
    "# and each waiting for each other to arrive)\n",
    "\n",
    "# i can only start any object of the thread class only once cant call it always \n",
    "# while i can create a new object and the start the thread class and start it again \n",
    "\n"
   ]
  },
  {
   "cell_type": "code",
   "execution_count": null,
   "metadata": {},
   "outputs": [],
   "source": [
    "# its a good practice to not use many multi threads but to use only few threads"
   ]
  }
 ],
 "metadata": {
  "kernelspec": {
   "display_name": "Python 3.7.0 (conda)",
   "language": "python",
   "name": "python3"
  },
  "language_info": {
   "codemirror_mode": {
    "name": "ipython",
    "version": 3
   },
   "file_extension": ".py",
   "mimetype": "text/x-python",
   "name": "python",
   "nbconvert_exporter": "python",
   "pygments_lexer": "ipython3",
   "version": "3.7.0"
  },
  "orig_nbformat": 4,
  "vscode": {
   "interpreter": {
    "hash": "2b47e9f57abd3ad7492737ef25d96412f32191f5e79d74d0a277131c7658f3e7"
   }
  }
 },
 "nbformat": 4,
 "nbformat_minor": 2
}
